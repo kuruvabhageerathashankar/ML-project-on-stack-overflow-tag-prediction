{
 "cells": [
  {
   "cell_type": "code",
   "execution_count": 1,
   "id": "371b379a-b5d7-468d-bc13-97e7ab2f4e20",
   "metadata": {},
   "outputs": [],
   "source": [
    "import requests\n",
    "from bs4 import BeautifulSoup"
   ]
  },
  {
   "cell_type": "code",
   "execution_count": 2,
   "id": "7596a3bc-9123-4ce6-b587-5b8d684d633f",
   "metadata": {},
   "outputs": [],
   "source": [
    "import numpy as np\n",
    "import pandas as pd\n",
    "import re"
   ]
  },
  {
   "cell_type": "code",
   "execution_count": 3,
   "id": "b57ab42b-57e6-435e-8be4-dd7de493f5a4",
   "metadata": {},
   "outputs": [],
   "source": [
    "url = 'https://stackoverflow.com/questions?tab=newest&page=2'"
   ]
  },
  {
   "cell_type": "code",
   "execution_count": 4,
   "id": "ae850146-8209-4b53-a839-46632465979e",
   "metadata": {},
   "outputs": [
    {
     "data": {
      "text/plain": [
       "<Response [200]>"
      ]
     },
     "execution_count": 4,
     "metadata": {},
     "output_type": "execute_result"
    }
   ],
   "source": [
    "requests.get(url)"
   ]
  },
  {
   "cell_type": "code",
   "execution_count": 18,
   "id": "dd7f0294-0b2e-4108-983a-5ccb44c21696",
   "metadata": {},
   "outputs": [],
   "source": [
    "title = []\n",
    "body = []\n",
    "tags = []\n",
    "\n",
    "for i in range(1,101):\n",
    "    url = f'https://stackoverflow.com/questions?tab=newest&page={i}'\n",
    "    page = requests.get(url)\n",
    "\n",
    "    soup = BeautifulSoup(page.text)\n",
    "\n",
    "    for i in soup.find_all(\"div\",class_=\"s-post-summary--content\"):\n",
    "    \n",
    "    # title\n",
    "        text = i.find(\"h3\",class_=\"s-post-summary--content-title\").text\n",
    "        regex = re.findall(r\"\\n(.*?)\\n\",text)\n",
    "        if regex:\n",
    "            title.append(regex[0])\n",
    "        else:\n",
    "            title.append(np.nan)\n",
    "            \n",
    "        # body\n",
    "        text = i.find(\"div\",class_=\"s-post-summary--content-excerpt\").text.strip()\n",
    "        regex = re.sub(r\"http\\S+\",'',text)\n",
    "        regex = re.sub(r\"\\s+\",' ',regex).strip()\n",
    "        if regex:\n",
    "            body.append(regex)\n",
    "        else:\n",
    "            body.append(np.nan)\n",
    "            \n",
    "        # tags\n",
    "        tag_list = i.find_all(\"a\", class_=\"post-tag\")\n",
    "        if tag_list:\n",
    "            clean_tags = [tag.text.strip() for tag in tag_list]\n",
    "            tags.append(','.join(clean_tags))\n",
    "        else:\n",
    "            tags.append(\"No tags found!\")\n"
   ]
  },
  {
   "cell_type": "code",
   "execution_count": 19,
   "id": "cd5a90d0-556b-4b58-8bfc-3442df81fa57",
   "metadata": {},
   "outputs": [
    {
     "name": "stdout",
     "output_type": "stream",
     "text": [
      "Title:  4999\n",
      "Body:  4999\n",
      "Tags:  4999\n"
     ]
    }
   ],
   "source": [
    "print(\"Title: \",len(title))\n",
    "print(\"Body: \",len(body))\n",
    "print(\"Tags: \",len(tags))"
   ]
  },
  {
   "cell_type": "code",
   "execution_count": 20,
   "id": "c226d0ad-2826-4689-819a-826ec42421d8",
   "metadata": {},
   "outputs": [],
   "source": [
    "df = pd.DataFrame({\n",
    "    \"title\": title,\n",
    "    \"body\": body,\n",
    "    \"tags\": tags\n",
    "})"
   ]
  },
  {
   "cell_type": "code",
   "execution_count": 21,
   "id": "87d315ef-6b0f-4702-a555-0cb22480a8d4",
   "metadata": {},
   "outputs": [
    {
     "data": {
      "text/html": [
       "<div>\n",
       "<style scoped>\n",
       "    .dataframe tbody tr th:only-of-type {\n",
       "        vertical-align: middle;\n",
       "    }\n",
       "\n",
       "    .dataframe tbody tr th {\n",
       "        vertical-align: top;\n",
       "    }\n",
       "\n",
       "    .dataframe thead th {\n",
       "        text-align: right;\n",
       "    }\n",
       "</style>\n",
       "<table border=\"1\" class=\"dataframe\">\n",
       "  <thead>\n",
       "    <tr style=\"text-align: right;\">\n",
       "      <th></th>\n",
       "      <th>title</th>\n",
       "      <th>body</th>\n",
       "      <th>tags</th>\n",
       "    </tr>\n",
       "  </thead>\n",
       "  <tbody>\n",
       "    <tr>\n",
       "      <th>0</th>\n",
       "      <td>Join Text inside of a Google Sheet Query</td>\n",
       "      <td>I want to find a way to join text of a query a...</td>\n",
       "      <td>google-sheets,google-sheets-formula</td>\n",
       "    </tr>\n",
       "    <tr>\n",
       "      <th>1</th>\n",
       "      <td>Zuul can't route to FastAPI in Docker on Windo...</td>\n",
       "      <td>I’m running a Spring Cloud Zuul API gateway zu...</td>\n",
       "      <td>spring-boot,docker,fastapi,netflix-zuul</td>\n",
       "    </tr>\n",
       "    <tr>\n",
       "      <th>2</th>\n",
       "      <td>How to make my website php version current?</td>\n",
       "      <td>My website has a very old design. Should I upg...</td>\n",
       "      <td>php,web</td>\n",
       "    </tr>\n",
       "    <tr>\n",
       "      <th>3</th>\n",
       "      <td>JAVA_HOME is set to an invalid directory but t...</td>\n",
       "      <td>The error : &gt;flutter build apk ERROR: JAVA_HOM...</td>\n",
       "      <td>java,flutter,gradle</td>\n",
       "    </tr>\n",
       "    <tr>\n",
       "      <th>4</th>\n",
       "      <td>PTZ hikivision camera to make facial recogniti...</td>\n",
       "      <td>Aim - we are working with a hikivision ptz cam...</td>\n",
       "      <td>computer-vision,camera</td>\n",
       "    </tr>\n",
       "    <tr>\n",
       "      <th>...</th>\n",
       "      <td>...</td>\n",
       "      <td>...</td>\n",
       "      <td>...</td>\n",
       "    </tr>\n",
       "    <tr>\n",
       "      <th>4994</th>\n",
       "      <td>Custom IExceptionHandler does not catch except...</td>\n",
       "      <td>I have a behaviour in my API which I don't kno...</td>\n",
       "      <td>rest,asp.net-core</td>\n",
       "    </tr>\n",
       "    <tr>\n",
       "      <th>4995</th>\n",
       "      <td>Issue Applying CIS Policy 'Do not allow WebAut...</td>\n",
       "      <td>I am applying the CIS policy: \"Ensure 'Do not ...</td>\n",
       "      <td>windows,powershell,regedit,windows-server-2022</td>\n",
       "    </tr>\n",
       "    <tr>\n",
       "      <th>4996</th>\n",
       "      <td>Flutter iOS deep linking pushes same screen tw...</td>\n",
       "      <td>I'm building a Flutter app using GetX for navi...</td>\n",
       "      <td>flutter,deep-linking,flutter-getx</td>\n",
       "    </tr>\n",
       "    <tr>\n",
       "      <th>4997</th>\n",
       "      <td>How to use a recursive CTE in a JOIN statement</td>\n",
       "      <td>I'm working on converting an old database and ...</td>\n",
       "      <td>sql,mysql,recursion,common-table-expression</td>\n",
       "    </tr>\n",
       "    <tr>\n",
       "      <th>4998</th>\n",
       "      <td>ngBootstrap ScrollSpy with sticky top and no h...</td>\n",
       "      <td>How do I get ngbScrollSpy to work with a link ...</td>\n",
       "      <td>angular,ng-bootstrap</td>\n",
       "    </tr>\n",
       "  </tbody>\n",
       "</table>\n",
       "<p>4999 rows × 3 columns</p>\n",
       "</div>"
      ],
      "text/plain": [
       "                                                  title  \\\n",
       "0              Join Text inside of a Google Sheet Query   \n",
       "1     Zuul can't route to FastAPI in Docker on Windo...   \n",
       "2           How to make my website php version current?   \n",
       "3     JAVA_HOME is set to an invalid directory but t...   \n",
       "4     PTZ hikivision camera to make facial recogniti...   \n",
       "...                                                 ...   \n",
       "4994  Custom IExceptionHandler does not catch except...   \n",
       "4995  Issue Applying CIS Policy 'Do not allow WebAut...   \n",
       "4996  Flutter iOS deep linking pushes same screen tw...   \n",
       "4997     How to use a recursive CTE in a JOIN statement   \n",
       "4998  ngBootstrap ScrollSpy with sticky top and no h...   \n",
       "\n",
       "                                                   body  \\\n",
       "0     I want to find a way to join text of a query a...   \n",
       "1     I’m running a Spring Cloud Zuul API gateway zu...   \n",
       "2     My website has a very old design. Should I upg...   \n",
       "3     The error : >flutter build apk ERROR: JAVA_HOM...   \n",
       "4     Aim - we are working with a hikivision ptz cam...   \n",
       "...                                                 ...   \n",
       "4994  I have a behaviour in my API which I don't kno...   \n",
       "4995  I am applying the CIS policy: \"Ensure 'Do not ...   \n",
       "4996  I'm building a Flutter app using GetX for navi...   \n",
       "4997  I'm working on converting an old database and ...   \n",
       "4998  How do I get ngbScrollSpy to work with a link ...   \n",
       "\n",
       "                                                tags  \n",
       "0                google-sheets,google-sheets-formula  \n",
       "1            spring-boot,docker,fastapi,netflix-zuul  \n",
       "2                                            php,web  \n",
       "3                                java,flutter,gradle  \n",
       "4                             computer-vision,camera  \n",
       "...                                              ...  \n",
       "4994                               rest,asp.net-core  \n",
       "4995  windows,powershell,regedit,windows-server-2022  \n",
       "4996               flutter,deep-linking,flutter-getx  \n",
       "4997     sql,mysql,recursion,common-table-expression  \n",
       "4998                            angular,ng-bootstrap  \n",
       "\n",
       "[4999 rows x 3 columns]"
      ]
     },
     "execution_count": 21,
     "metadata": {},
     "output_type": "execute_result"
    }
   ],
   "source": [
    "df"
   ]
  },
  {
   "cell_type": "code",
   "execution_count": 22,
   "id": "b25a92ec-0118-4f44-90b6-01f15ae0f095",
   "metadata": {},
   "outputs": [],
   "source": [
    "df.to_csv(r\"C:\\Users\\095bh\\Downloads\\stack_over_flow.csv\",mode = 'x')"
   ]
  },
  {
   "cell_type": "code",
   "execution_count": null,
   "id": "4ef013a0-9007-4d2e-a130-6fb4f01ab7c5",
   "metadata": {},
   "outputs": [],
   "source": []
  }
 ],
 "metadata": {
  "kernelspec": {
   "display_name": "Python 3 (ipykernel)",
   "language": "python",
   "name": "python3"
  },
  "language_info": {
   "codemirror_mode": {
    "name": "ipython",
    "version": 3
   },
   "file_extension": ".py",
   "mimetype": "text/x-python",
   "name": "python",
   "nbconvert_exporter": "python",
   "pygments_lexer": "ipython3",
   "version": "3.11.7"
  }
 },
 "nbformat": 4,
 "nbformat_minor": 5
}
